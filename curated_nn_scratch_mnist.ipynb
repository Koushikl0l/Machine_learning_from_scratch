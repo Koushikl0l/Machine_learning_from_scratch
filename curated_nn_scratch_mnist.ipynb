{
 "cells": [
  {
   "cell_type": "code",
   "execution_count": 1,
   "id": "bb81f5d6-ed4d-4b7c-95e1-b3ca216150d4",
   "metadata": {},
   "outputs": [],
   "source": [
    "import numpy as np\n",
    "import pandas as pd\n",
    "import matplotlib.pylab as plt"
   ]
  },
  {
   "cell_type": "code",
   "execution_count": 162,
   "id": "bfa4ce9c-29e5-413f-ab43-b8939fbb2170",
   "metadata": {},
   "outputs": [],
   "source": [
    "\n",
    " \n",
    "class ANN:\n",
    "    def __init__(self, layers_size,input_layer_node):\n",
    "        self.layers_size = layers_size\n",
    "        self.parameters = {}\n",
    "        self.L = len(self.layers_size)\n",
    "        self.n = 0\n",
    "        self.costs = []\n",
    "        self.layers_size.insert(0,input_layer_node)\n",
    "        self.initialize_parameters()\n",
    " \n",
    "    def sigmoid(self, Z):\n",
    "        return 1 / (1 + np.exp(-Z))\n",
    " \n",
    "    def softmax(self, Z):\n",
    "        expZ = np.exp(Z - np.max(Z))\n",
    "        return expZ / expZ.sum(axis=0, keepdims=True)\n",
    " \n",
    "    def initialize_parameters(self):\n",
    "        np.random.seed(1)\n",
    " \n",
    "        for l in range(1, len(self.layers_size)):\n",
    "            self.parameters[\"W\" + str(l)] = np.random.randn(self.layers_size[l], self.layers_size[l - 1]) / np.sqrt(\n",
    "                self.layers_size[l - 1])\n",
    "            self.parameters[\"b\" + str(l)] = np.zeros((self.layers_size[l], 1))\n",
    " \n",
    "    def forward(self, X):\n",
    "        store = {}\n",
    " \n",
    "        A = X.T\n",
    "        for l in range(self.L - 1):\n",
    "            Z = self.parameters[\"W\" + str(l + 1)].dot(A) + self.parameters[\"b\" + str(l + 1)]\n",
    "            A = self.sigmoid(Z)\n",
    "            store[\"A\" + str(l + 1)] = A\n",
    "            store[\"W\" + str(l + 1)] = self.parameters[\"W\" + str(l + 1)]\n",
    "            store[\"Z\" + str(l + 1)] = Z\n",
    " \n",
    "        Z = self.parameters[\"W\" + str(self.L)].dot(A) + self.parameters[\"b\" + str(self.L)]\n",
    "        A = self.softmax(Z)\n",
    "        store[\"A\" + str(self.L)] = A\n",
    "        store[\"W\" + str(self.L)] = self.parameters[\"W\" + str(self.L)]\n",
    "        store[\"Z\" + str(self.L)] = Z\n",
    " \n",
    "        return A, store\n",
    " \n",
    "    def sigmoid_derivative(self, Z):\n",
    "        s = 1 / (1 + np.exp(-Z))\n",
    "        return s * (1 - s)\n",
    " \n",
    "    def backward(self, X, Y, store):\n",
    " \n",
    "        derivatives = {}\n",
    " \n",
    "        store[\"A0\"] = X.T\n",
    " \n",
    "        A = store[\"A\" + str(self.L)]\n",
    "        dZ = A - Y.T\n",
    " \n",
    "        dW = dZ.dot(store[\"A\" + str(self.L - 1)].T) / self.n\n",
    "        db = np.sum(dZ, axis=1, keepdims=True) / self.n\n",
    "        dAPrev = store[\"W\" + str(self.L)].T.dot(dZ)\n",
    " \n",
    "        derivatives[\"dW\" + str(self.L)] = dW\n",
    "        derivatives[\"db\" + str(self.L)] = db\n",
    " \n",
    "        for l in range(self.L - 1, 0, -1):\n",
    "            dZ = dAPrev * self.sigmoid_derivative(store[\"Z\" + str(l)])\n",
    "            dW = 1. / self.n * dZ.dot(store[\"A\" + str(l - 1)].T)\n",
    "            db = 1. / self.n * np.sum(dZ, axis=1, keepdims=True)\n",
    "            if l > 1:\n",
    "                dAPrev = store[\"W\" + str(l)].T.dot(dZ)\n",
    " \n",
    "            derivatives[\"dW\" + str(l)] = dW\n",
    "            derivatives[\"db\" + str(l)] = db\n",
    " \n",
    "        return derivatives\n",
    " \n",
    "    def fit(self, X, Y, learning_rate=0.01, n_iterations=2500):\n",
    "        np.random.seed(1)\n",
    " \n",
    "        self.n = X.shape[0]\n",
    " \n",
    "        #self.layers_size.insert(0, X.shape[1])\n",
    " \n",
    "        self.initialize_parameters()\n",
    "        for loop in range(n_iterations):\n",
    "            A, store = self.forward(X)\n",
    "            cost = -np.mean(Y * np.log(A.T+ 1e-8))# CCE cost function A.T is updated weight \n",
    "            derivatives = self.backward(X, Y, store)\n",
    " \n",
    "            for l in range(1, self.L + 1):\n",
    "                self.parameters[\"W\" + str(l)] = self.parameters[\"W\" + str(l)] - learning_rate * derivatives[\n",
    "                    \"dW\" + str(l)]\n",
    "                self.parameters[\"b\" + str(l)] = self.parameters[\"b\" + str(l)] - learning_rate * derivatives[\n",
    "                    \"db\" + str(l)]\n",
    " \n",
    "            if loop % 100 == 0:\n",
    "                print(\"Epoch:\",loop,\"Cost: \", cost, \"Train Accuracy:\", self.predict(X, Y))\n",
    " \n",
    "            if loop % 10 == 0:\n",
    "                self.costs.append(cost)\n",
    " \n",
    "    def predict(self, X, Y):\n",
    "        A, cache = self.forward(X)\n",
    "        y_hat = np.argmax(A, axis=0)\n",
    "        Y = np.argmax(Y, axis=1)\n",
    "        accuracy = (y_hat == Y).mean()\n",
    "        return accuracy\n",
    " \n",
    "    def plot_cost(self):\n",
    "        plt.figure()\n",
    "        plt.plot(np.arange(len(self.costs)), self.costs)\n",
    "        plt.xlabel(\"epochs\")\n",
    "        plt.ylabel(\"Loss\")\n",
    "        plt.show()\n",
    " \n",
    "\n",
    "def one_hot(Y):\n",
    "    one_hot_Y = np.zeros((Y.size, Y.max() + 1))\n",
    "    one_hot_Y[np.arange(Y.size), Y] = 1\n",
    "    #one_hot_Y = one_hot_Y.T\n",
    "    return one_hot_Y\n",
    "\n",
    "def load_mnist():\n",
    "    \n",
    "    data = pd.read_csv('data/digit-recognizer/train.csv') #read data (42000, 785) -- 1st index is label \n",
    "    X,y = data.iloc[:,1:], data.iloc[:,0] #separate feature and class_label\n",
    "    #convert to nnumpy array\n",
    "    X = np.asarray(X)\n",
    "    y = np.asarray(y)\n",
    "    #Normalize samples\n",
    "    X = X / 255.\n",
    "    y = one_hot(y)\n",
    "    \n",
    "    return  X[1000:] , X[:1000] , y[1000:] , y[:1000] #split data into train test\n",
    "\n",
    "def save_weights():\n",
    "    np.save(\"weights.npy\",ann.parameters ,allow_pickle=True)\n",
    "\n",
    "def load_weights(dir):\n",
    "    \n",
    "    weights=np.load(dir,allow_pickle=True)\n",
    "    for i in ann.parameters.keys():\n",
    "        ann.parameters[str(i)] = weights.item().get(str(i))\n",
    "        \n",
    "    print('Weight loaded')\n",
    " \n",
    "if __name__ == '__main__':\n",
    "\n",
    "    \n",
    "    train_x , test_x , train_y , test_y = load_mnist()\n",
    "    \n",
    "    layers_dims = [50, 10]\n",
    " \n",
    "    ann = ANN(layers_dims,train_x.shape[1])\n",
    "    # ann.fit(train_x, train_y, learning_rate=0.1, n_iterations=1000)\n",
    "    # print(\"Train Accuracy:\", ann.predict(train_x, train_y))\n",
    "    # print(\"Test Accuracy:\", ann.predict(test_x, test_y))\n",
    "    \n",
    "    # ann.plot_cost()"
   ]
  },
  {
   "cell_type": "code",
   "execution_count": 156,
   "id": "75b9dd51-d1fa-4a69-aa75-0f93895ee5e2",
   "metadata": {},
   "outputs": [],
   "source": [
    "def make_predictions(X):\n",
    "    A2,cache= ann.forward(X)\n",
    "    return np.argmax(A2, axis=0)\n",
    "\n",
    "def test_prediction(index):\n",
    "    current_image = test_x[None,index,:]\n",
    "    prediction = make_predictions(test_x[None,index,:])\n",
    "    label = test_y[index]\n",
    "    print(\"Prediction: \", prediction)\n",
    "    print(\"Label: \", np.argmax(label))\n",
    "    \n",
    "    current_image = current_image.reshape((28, 28)) * 255\n",
    "    plt.gray()\n",
    "    plt.imshow(current_image, interpolation='nearest')\n",
    "    plt.show()\n",
    "\n"
   ]
  },
  {
   "cell_type": "code",
   "execution_count": 161,
   "id": "933d3396-e206-4924-a1d4-eac9e74df243",
   "metadata": {},
   "outputs": [
    {
     "name": "stdout",
     "output_type": "stream",
     "text": [
      "Prediction:  [2]\n",
      "Label:  2\n"
     ]
    },
    {
     "data": {
      "image/png": "[encoded data removed]",
      "text/plain": [
       "<Figure size 640x480 with 1 Axes>"
      ]
     },
     "metadata": {},
     "output_type": "display_data"
    }
   ],
   "source": [
    "index = 101\n",
    "test_prediction(index)"
   ]
  },
  {
   "cell_type": "code",
   "execution_count": 155,
   "id": "96ee3172-460a-4197-816c-93e4a8150ad0",
   "metadata": {},
   "outputs": [
    {
     "name": "stdout",
     "output_type": "stream",
     "text": [
      "Weight loaded\n"
     ]
    }
   ],
   "source": [
    "load_weights('weights.npy')"
   ]
  },
  {
   "cell_type": "code",
   "execution_count": 27,
   "id": "bb0a8d21-fe40-426a-a4a5-b2d3bbd300c9",
   "metadata": {},
   "outputs": [
    {
     "data": {
      "text/plain": [
       "True"
      ]
     },
     "execution_count": 27,
     "metadata": {},
     "output_type": "execute_result"
    }
   ],
   "source": [
    "np.array_equal(ann.parameters['W1'], weights.item().get('W1'))  "
   ]
  }
 ],
 "metadata": {
  "kernelspec": {
   "display_name": "Python 3 (ipykernel)",
   "language": "python",
   "name": "python3"
  },
  "language_info": {
   "codemirror_mode": {
    "name": "ipython",
    "version": 3
   },
   "file_extension": ".py",
   "mimetype": "text/x-python",
   "name": "python",
   "nbconvert_exporter": "python",
   "pygments_lexer": "ipython3",
   "version": "3.11.4"
  }
 },
 "nbformat": 4,
 "nbformat_minor": 5
}
