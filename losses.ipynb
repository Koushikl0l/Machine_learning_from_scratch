{
 "cells": [
  {
   "cell_type": "code",
   "execution_count": 125,
   "id": "034c8eac-99ab-40c4-bd71-577b6f4e94c3",
   "metadata": {},
   "outputs": [],
   "source": [
    "import numpy as np\n",
    "import tensorflow as tf\n",
    "from tensorflow.keras.losses import BinaryCrossentropy\n",
    "from tensorflow import keras\n",
    "from tensorflow.keras import backend as K"
   ]
  },
  {
   "cell_type": "markdown",
   "id": "15e36992-0918-45b2-8940-ef9a22f7c708",
   "metadata": {},
   "source": [
    "<center><img src=\"loss_images/bce.png\" alt=\"Girl in a jacket\" width=\"500\" height=\"600\"></center>\n",
    "\n",
    "### Binary Cross Entropy"
   ]
  },
  {
   "cell_type": "code",
   "execution_count": 2,
   "id": "f666064f-7413-4288-8302-70a3709efee0",
   "metadata": {},
   "outputs": [
    {
     "name": "stdout",
     "output_type": "stream",
     "text": [
      "[5.14164949]\n"
     ]
    }
   ],
   "source": [
    "def BinaryCrossEntropy(y_true, y_pred):\n",
    "    epsilon,neg_epsilon = 1e-7,1 - 1e-7\n",
    "    y_pred = np.clip(y_pred,epsilon,neg_epsilon)\n",
    "    term_0 = (1-y_true) * np.log(1-y_pred + epsilon)\n",
    "    term_1 = y_true * np.log(y_pred + epsilon)\n",
    "    return -np.mean(term_0+term_1, axis=0)\n",
    "\n",
    "print(BinaryCrossEntropy(np.array([1, 1, 1]).reshape(-1, 1), \n",
    "                         np.array([1, 1, 0]).reshape(-1, 1)))\n"
   ]
  },
  {
   "cell_type": "markdown",
   "id": "34ec6cdd-6f31-4364-bca4-f23e2d4678aa",
   "metadata": {},
   "source": [
    "### Sanity check using Tensorflow BCE"
   ]
  },
  {
   "cell_type": "code",
   "execution_count": 96,
   "id": "b9af9689-3b7c-4dc0-9155-0ee139e9efd5",
   "metadata": {},
   "outputs": [
    {
     "name": "stdout",
     "output_type": "stream",
     "text": [
      "5.141649490132791\n"
     ]
    }
   ],
   "source": [
    "y_true = np.array([1., 1., 1.])\n",
    "y_pred = np.array([1., 1., 0.])\n",
    "bce = BinaryCrossentropy()\n",
    "loss = bce(y_true, y_pred)\n",
    "print(loss.numpy())"
   ]
  },
  {
   "cell_type": "markdown",
   "id": "47f83c22-9c80-46c8-b4a0-c5ac30783dcf",
   "metadata": {},
   "source": [
    "<center><img src=\"loss_images/cce.png\" alt=\"Girl in a jacket\" width=\"300\" height=\"300\"></center>\n",
    "\n",
    "\n",
    "### Implement Categorical Cross Entropy"
   ]
  },
  {
   "cell_type": "code",
   "execution_count": 111,
   "id": "08857671-4e93-48bb-aca8-96e69e58a015",
   "metadata": {},
   "outputs": [],
   "source": [
    "def CategoricalCrossEntropy(y_true, y_pred): \n",
    "    epsilon,neg_epsilon = 10e-8,1 - 10e-8\n",
    "    y_pred = np.clip(y_pred,epsilon,neg_epsilon)\n",
    "    val=-np.sum(y_true * np.log(y_pred+epsilon),axis=-1, keepdims=True)\n",
    "    return np.mean(val,axis=0)"
   ]
  },
  {
   "cell_type": "code",
   "execution_count": 112,
   "id": "255729b7-33f5-4fcc-8fe7-6b36ad3e14aa",
   "metadata": {},
   "outputs": [],
   "source": [
    "y_true = [[0, 1, 0], [0, 0, 1]]\n",
    "y_pred = [[0.05, 0.95, 0], [0.1, 0.8, 0.1]]"
   ]
  },
  {
   "cell_type": "code",
   "execution_count": 113,
   "id": "0c485906-ab7e-44d6-a12b-d14cdb0fe88d",
   "metadata": {},
   "outputs": [
    {
     "data": {
      "text/plain": [
       "array([1.17693864])"
      ]
     },
     "execution_count": 113,
     "metadata": {},
     "output_type": "execute_result"
    }
   ],
   "source": [
    "CategoricalCrossEntropy(y_true,y_pred)\n",
    "                         "
   ]
  },
  {
   "cell_type": "markdown",
   "id": "baf85104-c6ba-41c2-9d54-ccc6d0a47673",
   "metadata": {},
   "source": [
    "### sanity check with tensorflow CCE"
   ]
  },
  {
   "cell_type": "code",
   "execution_count": 110,
   "id": "58bebb48-e2ee-4b2f-b52f-3d13ba1377ab",
   "metadata": {},
   "outputs": [
    {
     "data": {
      "text/plain": [
       "1.1769392"
      ]
     },
     "execution_count": 110,
     "metadata": {},
     "output_type": "execute_result"
    }
   ],
   "source": [
    "cce = tf.keras.losses.CategoricalCrossentropy()\n",
    "cce(y_true, y_pred).numpy()"
   ]
  },
  {
   "cell_type": "markdown",
   "id": "5c8e169e-3c7e-4bfa-95d8-39a035f2d548",
   "metadata": {},
   "source": [
    "<center><img src=\"loss_images/huber.jpg\" alt=\"Girl in a jacket\" width=\"400\" height=\"300\"></center>\n",
    "\n",
    "\n",
    "### Implemennt Huber Loss"
   ]
  },
  {
   "cell_type": "code",
   "execution_count": 160,
   "id": "4c76f8d5-2570-4467-a39f-62b873c1d08c",
   "metadata": {},
   "outputs": [],
   "source": [
    "def huber_loss(y_true , y_pred):\n",
    "    thresold = 1\n",
    "    error = y_true - y_pred\n",
    "    return_type = tf.abs(error) <= thresold\n",
    "    r1 = 0.5 * tf.square(error)\n",
    "    r2 = thresold * (tf.abs(error) - (0.5*thresold))\n",
    "    return tf.where(return_type , r1 , r2)"
   ]
  },
  {
   "cell_type": "markdown",
   "id": "053fa042-c9bd-406e-88aa-5ef96b8b0260",
   "metadata": {},
   "source": [
    "<center><img src=\"loss_images/rmse.png\" alt=\"Girl in a jacket\" width=\"300\" height=\"180\"></center>\n",
    "\n",
    "### Implement rmse"
   ]
  },
  {
   "cell_type": "code",
   "execution_count": 144,
   "id": "b9edafc9-8fa9-496d-a609-98df22df3400",
   "metadata": {},
   "outputs": [],
   "source": [
    "def rmse(y_true, y_pred):\n",
    "    error = y_true - y_pred\n",
    "    sqr_error = K.square(error)\n",
    "    mean_sqr_error = K.mean(sqr_error)\n",
    "    sqrt_mean_sqr_error = K.sqrt(mean_sqr_error)\n",
    "    return sqrt_mean_sqr_error"
   ]
  },
  {
   "cell_type": "markdown",
   "id": "2e36a2c9-451f-4c3c-941d-33d01113c902",
   "metadata": {},
   "source": [
    "<center><img src=\"loss_images/mse.png\" alt=\"Girl in a jacket\" width=\"300\" height=\"180\"></center>\n",
    "\n",
    "### Implement MSE"
   ]
  },
  {
   "cell_type": "code",
   "execution_count": 148,
   "id": "77d626e9-1d9f-41d4-b5a7-b6188bd2438d",
   "metadata": {},
   "outputs": [],
   "source": [
    "def mse(y_true, y_pred):\n",
    "    \n",
    "    squared_differences = K.square(y_true - y_pred)\n",
    "    return K.mean(squared_differences)"
   ]
  },
  {
   "cell_type": "markdown",
   "id": "77d134dd-59e2-40d6-8456-25303c6d2fc2",
   "metadata": {},
   "source": [
    "<center><img src=\"loss_images/mae.png\" alt=\"Girl in a jacket\" width=\"300\" height=\"180\"></center>\n",
    "\n",
    "### Implement MAE"
   ]
  },
  {
   "cell_type": "code",
   "execution_count": 156,
   "id": "a7fc9792-9101-46d1-8d6c-7f2a2f0e61aa",
   "metadata": {},
   "outputs": [],
   "source": [
    "def mae(y_true, y_pred):\n",
    "    \n",
    "    squared_differences = K.abs(y_true - y_pred)\n",
    "    return K.mean(squared_differences)"
   ]
  },
  {
   "cell_type": "code",
   "execution_count": 145,
   "id": "38e33767-1cfc-4b39-9c25-d64aa2870111",
   "metadata": {},
   "outputs": [],
   "source": [
    "# inputs\n",
    "xs = np.array([-1.0,  0.0, 1.0, 2.0, 3.0, 4.0], dtype=float)\n",
    "\n",
    "# labels. relationship with the inputs above is y=2x-1.\n",
    "ys = np.array([-3.0, -1.0, 1.0, 3.0, 5.0, 7.0], dtype=float)"
   ]
  },
  {
   "cell_type": "code",
   "execution_count": 151,
   "id": "280f48df-9ace-4987-83c6-8c46a97d622f",
   "metadata": {},
   "outputs": [],
   "source": [
    "def load_model(my_loss):\n",
    "    # define the model architecture\n",
    "    model = tf.keras.Sequential([keras.layers.Dense(units=1, input_shape=[1])])\n",
    "    \n",
    "    # use the function you just coded as the loss\n",
    "    model.compile(optimizer='sgd', loss=my_loss)\n",
    "                  \n",
    "    # train the model \n",
    "    model.fit(xs, ys, epochs=500,verbose=0)\n",
    "    return model\n",
    "    "
   ]
  },
  {
   "cell_type": "code",
   "execution_count": 153,
   "id": "9302cbbb-c130-4b21-b941-8d585d0294f3",
   "metadata": {},
   "outputs": [
    {
     "name": "stdout",
     "output_type": "stream",
     "text": [
      "1/1 [==============================] - 0s 63ms/step\n",
      "[[18.878672]]\n"
     ]
    }
   ],
   "source": [
    "model = load_model(mse)\n",
    "# test with a sample input\n",
    "print(model.predict([10.0]))"
   ]
  },
  {
   "cell_type": "code",
   "execution_count": 158,
   "id": "63778bb0-074d-4c13-9028-88a930f1f300",
   "metadata": {},
   "outputs": [
    {
     "name": "stdout",
     "output_type": "stream",
     "text": [
      "1/1 [==============================] - 0s 63ms/step\n",
      "[[19.07761]]\n"
     ]
    }
   ],
   "source": [
    "model = load_model(rmse)\n",
    "# test with a sample input\n",
    "print(model.predict([10.0]))"
   ]
  },
  {
   "cell_type": "code",
   "execution_count": 157,
   "id": "b15c9a18-15de-4971-a58e-de87c6ca1453",
   "metadata": {},
   "outputs": [
    {
     "name": "stdout",
     "output_type": "stream",
     "text": [
      "1/1 [==============================] - 0s 59ms/step\n",
      "[[19.05717]]\n"
     ]
    }
   ],
   "source": [
    "model = load_model(mae)\n",
    "# test with a sample input\n",
    "print(model.predict([10.0]))"
   ]
  },
  {
   "cell_type": "code",
   "execution_count": 161,
   "id": "106798f4-fd0e-4483-8b41-1f3058aa1df0",
   "metadata": {},
   "outputs": [
    {
     "name": "stdout",
     "output_type": "stream",
     "text": [
      "1/1 [==============================] - 0s 60ms/step\n",
      "[[18.55526]]\n"
     ]
    }
   ],
   "source": [
    "model = load_model(huber_loss)\n",
    "# test with a sample input\n",
    "print(model.predict([10.0]))"
   ]
  },
  {
   "cell_type": "code",
   "execution_count": null,
   "id": "6a8d4086-5c20-4610-9944-c56439f8d5ab",
   "metadata": {},
   "outputs": [],
   "source": []
  }
 ],
 "metadata": {
  "kernelspec": {
   "display_name": "Python 3 (ipykernel)",
   "language": "python",
   "name": "python3"
  },
  "language_info": {
   "codemirror_mode": {
    "name": "ipython",
    "version": 3
   },
   "file_extension": ".py",
   "mimetype": "text/x-python",
   "name": "python",
   "nbconvert_exporter": "python",
   "pygments_lexer": "ipython3",
   "version": "3.11.4"
  }
 },
 "nbformat": 4,
 "nbformat_minor": 5
}
