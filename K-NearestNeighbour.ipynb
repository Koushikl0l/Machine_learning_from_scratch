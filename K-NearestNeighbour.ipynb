{
 "cells": [
  {
   "cell_type": "code",
   "execution_count": 121,
   "id": "062da871-38cc-4169-b47e-08aa2a911718",
   "metadata": {},
   "outputs": [],
   "source": [
    "import numpy as np\n",
    "import matplotlib.pyplot as plt"
   ]
  },
  {
   "cell_type": "markdown",
   "id": "44044a7c-4eae-4a99-baee-ec1a21658d2d",
   "metadata": {},
   "source": [
    "<p>**This content is based on <a href=\"http://cs231n.stanford.edu\"> Stanford CS231n </a>course**</p>"
   ]
  },
  {
   "cell_type": "code",
   "execution_count": 190,
   "id": "96952f9d-6ac3-4a0b-b5f2-e60cd8f59470",
   "metadata": {},
   "outputs": [],
   "source": [
    "import numpy as np\n",
    "\n",
    "class KNearestNeighbor(object):\n",
    "  \"\"\" a kNN classifier with L2 distance \"\"\"\n",
    "\n",
    "  def __init__(self):\n",
    "    pass\n",
    "\n",
    "  def train(self, X, y):\n",
    "    \n",
    "    self.X_train = X\n",
    "    self.y_train = y\n",
    "    \n",
    "  def predict(self, X, k=1, num_loops=1):\n",
    "\n",
    "    if num_loops == 0:\n",
    "      dists = self.compute_distances_no_loops(X)\n",
    "    elif num_loops == 1:\n",
    "      dists = self.compute_distances_one_loop(X)\n",
    "    elif num_loops == 2:\n",
    "      dists = self.compute_distances_two_loops(X)\n",
    "    else:\n",
    "      raise ValueError('Invalid value %d for num_loops' % num_loops)\n",
    "\n",
    "    return self.predict_labels(dists, k=k)\n",
    "\n",
    "  def compute_distances_two_loops(self, X):\n",
    "    \n",
    "    num_test = X.shape[0]\n",
    "    num_train = self.X_train.shape[0]\n",
    "    dists = np.zeros((num_test, num_train))\n",
    "    for i in range(num_test):\n",
    "      for j in range(num_train):\n",
    "        \n",
    "        dists[i, j] = np.sqrt(np.sum((X[i, :] - self.X_train[j, :]) **2))\n",
    "        \n",
    "    return dists\n",
    "\n",
    "  def compute_distances_one_loop(self, X):\n",
    "    \n",
    "    num_test = X.shape[0]\n",
    "    num_train = self.X_train.shape[0]\n",
    "    dists = np.zeros((num_test, num_train))\n",
    "    for i in range(num_test):\n",
    "    \n",
    "      dists[i, :] = np.sqrt(np.sum((self.X_train - X[i, :])**2, axis=1))\n",
    "     \n",
    "    return dists\n",
    "\n",
    "  def compute_distances_no_loops(self, X):\n",
    "\n",
    "    num_test = X.shape[0]\n",
    "    num_train = self.X_train.shape[0]\n",
    "    dists = np.zeros((num_test, num_train)) \n",
    "    \n",
    "    dists = np.sqrt((-2 * np.dot(X, self.X_train.T)) + np.sum(X**2, axis=1, keepdims=True) + np.sum(self.X_train**2, axis=1))\n",
    "    \n",
    "    return dists\n",
    "\n",
    "  def predict_labels(self, dists, k=1):\n",
    "    \n",
    "    num_test = dists.shape[0]\n",
    "    y_pred = np.zeros(num_test)\n",
    "    # print(dists.shape)\n",
    "    for i in range(num_test):\n",
    "      # A list of length k storing the labels of the k nearest neighbors to\n",
    "      # the ith test point.\n",
    "      closest_y = []\n",
    "      #########################################################################\n",
    "      # TODO:                                                                 #\n",
    "      # Use the distance matrix to find the k nearest neighbors of the ith    #\n",
    "      # testing point, and use self.y_train to find the labels of these       #\n",
    "      # neighbors. Store these labels in closest_y.                           #\n",
    "      # Hint: Look up the function numpy.argsort.                             #\n",
    "      #########################################################################\n",
    "        \n",
    "      k_nearest_idxs = np.argsort(dists[i, :])[:k]\n",
    "\n",
    "     \n",
    "      closest_y = self.y_train[k_nearest_idxs]\n",
    "      if i ==1 and k==5:\n",
    "          print(dists[1, :])\n",
    "          print()\n",
    "          print(np.argsort(dists[1, :]))\n",
    "          print()\n",
    "          print(np.argsort(dists[1, :])[:k])\n",
    "          print(self.y_train)\n",
    "          print(k_nearest_idxs)\n",
    "          print(\"closest y\",closest_y)\n",
    "          print()\n",
    "          print(np.bincount(closest_y))\n",
    "          print()\n",
    "          print(np.argmax(np.bincount(closest_y)))\n",
    "           \n",
    "      #########################################################################\n",
    "      # TODO:                                                                 #\n",
    "      # Now that you have found the labels of the k nearest neighbors, you    #\n",
    "      # need to find the most common label in the list closest_y of labels.   #\n",
    "      # Store this label in y_pred[i]. Break ties by choosing the smaller     #\n",
    "      # label.                                                                #\n",
    "      #########################################################################\n",
    "      \n",
    "      y_pred[i] = np.argmax(np.bincount(closest_y))\n",
    "\n",
    "    return y_pred"
   ]
  },
  {
   "cell_type": "code",
   "execution_count": 191,
   "id": "08ae4ee4-f654-44b0-b536-d332a5859d41",
   "metadata": {},
   "outputs": [],
   "source": [
    "#Loading the Data\n",
    "iris= load_iris()\n",
    " \n",
    "# Store features matrix in X\n",
    "X= iris.data\n",
    "#Store target vector in \n",
    "y= iris.target \n",
    "\n",
    "#Creating the training Data\n",
    "train_idx = int(X.shape[0]* .8)\n",
    "X_train = X[:train_idx]\n",
    "y_train = y[:train_idx]\n",
    "\n",
    "X_test = X[train_idx:]\n",
    "y_test = y[train_idx:]"
   ]
  },
  {
   "cell_type": "code",
   "execution_count": 192,
   "id": "477e2104-8537-4fc1-8366-1870240fac59",
   "metadata": {},
   "outputs": [
    {
     "name": "stdout",
     "output_type": "stream",
     "text": [
      "accuracy: 0.8333\n",
      "accuracy: 0.7667\n",
      "[4.02864742 4.00249922 4.14366987 3.98622629 4.0607881  3.74833296\n",
      " 4.0620192  3.93954312 4.11582313 3.96862697 3.95600809 3.88973007\n",
      " 4.06693988 4.44747119 4.29068759 4.08533964 4.09511905 3.98497177\n",
      " 3.76031914 3.96232255 3.7255872  3.89615195 4.48218697 3.60416426\n",
      " 3.63868108 3.81182371 3.76430604 3.9306488  4.0012498  3.88587185\n",
      " 3.85486705 3.81051178 4.12553027 4.17851648 3.92173431 4.17731971\n",
      " 4.08656335 4.12189277 4.20475921 3.92555729 4.08656335 4.16052881\n",
      " 4.21900462 3.7013511  3.57910603 3.97743636 3.92173431 4.08044115\n",
      " 3.96232255 4.01248053 1.58745079 1.1        1.42478068 1.2489996\n",
      " 1.07238053 0.81240384 0.96953597 2.05182845 1.26095202 1.23693169\n",
      " 1.98997487 0.93273791 1.52643375 0.81240384 1.47986486 1.3820275\n",
      " 0.67082039 1.3        1.06301458 1.37840488 0.54772256 1.24498996\n",
      " 0.91104336 0.96436508 1.22474487 1.28452326 1.3453624  1.161895\n",
      " 0.76157731 1.73493516 1.47986486 1.61554944 1.3        0.60827625\n",
      " 0.7        0.91651514 1.26095202 1.21655251 1.08166538 1.18321596\n",
      " 0.96953597 0.86023253 1.23693169 2.04205779 0.99498744 1.08627805\n",
      " 1.         1.1045361  2.18174242 1.06770783 1.4832397  0.31622777\n",
      " 1.81659021 1.01488916 1.30384048 2.63438797 0.91104336 2.21359436\n",
      " 1.46628783 2.21133444 1.00498756 0.90553851 1.36014705 0.33166248\n",
      " 0.48989795 1.02469508 1.11803399 2.94788059 2.92232784 0.88317609]\n",
      "\n",
      "[101 113 114  70  83  66  84  78  63  55  91 119 111 106  72  85  61  73\n",
      "  90  56  94  96 110 103 115  68  99  54  88  95  51  97 116  77  89  87\n",
      "  74  59  92  71  53  58  86  75  82  67 104  76 112  69  65  52 108  64\n",
      "  80 100  62  50  81  79 102  60  93  57  98 109 107 105 118 117  44  23\n",
      "  24  43  20   5  18  26  31  25  30  29  11  21  46  34  39  27   7  10\n",
      "  48  19   9  45  17   3  28   1  49   0   4   6  12  47  15  40  36  16\n",
      "   8  37  32   2  41  35  33  38  42  14  13  22]\n",
      "\n",
      "[101 113 114  70  83]\n",
      "[0 0 0 0 0 0 0 0 0 0 0 0 0 0 0 0 0 0 0 0 0 0 0 0 0 0 0 0 0 0 0 0 0 0 0 0 0\n",
      " 0 0 0 0 0 0 0 0 0 0 0 0 0 1 1 1 1 1 1 1 1 1 1 1 1 1 1 1 1 1 1 1 1 1 1 1 1\n",
      " 1 1 1 1 1 1 1 1 1 1 1 1 1 1 1 1 1 1 1 1 1 1 1 1 1 1 2 2 2 2 2 2 2 2 2 2 2\n",
      " 2 2 2 2 2 2 2 2 2]\n",
      "[101 113 114  70  83]\n",
      "closest y [2 2 2 1 1]\n",
      "\n",
      "[0 2 3]\n",
      "\n",
      "2\n",
      "accuracy: 0.8000\n",
      "accuracy: 0.7667\n",
      "accuracy: 0.6333\n",
      "accuracy: 0.0000\n",
      "accuracy: 0.0000\n"
     ]
    }
   ],
   "source": [
    "# find hyperparameters that work best on the validation set\n",
    "validation_accuracies = []\n",
    "for k in [1, 3, 5, 10, 20, 50, 100]:\n",
    "\n",
    "  # use a particular value of k and evaluation on validation data\n",
    "  nn = KNearestNeighbor()\n",
    "  nn.train(X_train, y_train) \n",
    "  # here we assume a modified NearestNeighbor class that can take a k as input\n",
    "  Yval_predict = nn.predict(X_test, k = k)\n",
    "  acc = np.mean(Yval_predict == y_test)\n",
    "  print ('accuracy: %.4f' %(acc))\n",
    "\n",
    "  # keep track of what works on the validation set\n",
    "  validation_accuracies.append((k, acc))"
   ]
  },
  {
   "cell_type": "code",
   "execution_count": 125,
   "id": "dda43dd2-6585-4eb9-87ef-7d64b3e0c48b",
   "metadata": {},
   "outputs": [
    {
     "data": {
      "text/plain": [
       "(1, 0.8333333333333334)"
      ]
     },
     "execution_count": 125,
     "metadata": {},
     "output_type": "execute_result"
    }
   ],
   "source": [
    "validation_accuracies[0]"
   ]
  },
  {
   "cell_type": "code",
   "execution_count": 126,
   "id": "55fee949-8c34-4dd3-9419-53fb10801298",
   "metadata": {},
   "outputs": [
    {
     "name": "stdout",
     "output_type": "stream",
     "text": [
      "k = 1, accuracy = 0.816667\n",
      "k = 3, accuracy = 0.825000\n",
      "k = 5, accuracy = 0.816667\n",
      "k = 8, accuracy = 0.825000\n",
      "k = 10, accuracy = 0.825000\n",
      "k = 12, accuracy = 0.833333\n",
      "k = 15, accuracy = 0.825000\n",
      "k = 20, accuracy = 0.833333\n",
      "k = 35, accuracy = 0.833333\n",
      "k = 50, accuracy = 0.833333\n",
      "k = 62, accuracy = 0.400000\n",
      "k = 75, accuracy = 0.141667\n",
      "k = 90, accuracy = 0.041667\n",
      "k = 100, accuracy = 0.016667\n",
      "\n",
      "Best K:  12 Acc: 0.8333\n"
     ]
    }
   ],
   "source": [
    "num_folds = 5\n",
    "k_choices = [1, 3, 5, 8, 10, 12, 15, 20,35, 50,62,75,90, 100]\n",
    "\n",
    "num_data = len(y_train)\n",
    "ind_split = np.array_split(np.arange(num_data), num_folds)\n",
    "X_train_folds = np.array_split(X_train, num_folds)\n",
    "y_train_folds = np.array_split(y_train, num_folds)\n",
    "#print np.shape(X_train_folds)\n",
    "k_to_accuracies = {}\n",
    "for k in k_choices:\n",
    "    #print 'Processing kNN for k = %d' %(k)\n",
    "    k_to_accuracies[k] = []\n",
    "    for j in range(0,num_folds):\n",
    "        X_train_v = np.vstack(X_train_folds[0:j]+X_train_folds[j+1:])\n",
    "        y_train_v = np.hstack(y_train_folds[0:j]+y_train_folds[j+1:])\n",
    "        \n",
    "        X_test_v = X_train_folds[j]\n",
    "        y_test_v = y_train_folds[j]\n",
    "        \n",
    "        nn.train(X_train_v, y_train_v)\n",
    "        dists_cv = nn.compute_distances_no_loops(X_test_v)\n",
    "        dists_cv = np.asarray(dists_cv)\n",
    "        #print 'predicting now'\n",
    "        y_test_pred = nn.predict_labels(dists_cv, k)\n",
    "        num_correct = np.sum(y_test_pred == y_test_v)\n",
    "        accuracy = float(num_correct) / float(len(y_test_v))\n",
    "        k_to_accuracies[k].append(accuracy)\n",
    "        \n",
    "        \n",
    "\n",
    "\n",
    "# Print out the computed accuracies\n",
    "acc = 0\n",
    "best_k=None\n",
    "for k in sorted(k_to_accuracies):\n",
    "    res = np.mean(k_to_accuracies[k])\n",
    "    if res>acc:\n",
    "        best_k = k\n",
    "        acc = res\n",
    "    print ('k = %d, accuracy = %f' % (k, res))\n",
    "\n",
    "print(\"\\nBest K: \",best_k,\"Acc: %.4f\" %acc)"
   ]
  },
  {
   "cell_type": "code",
   "execution_count": 127,
   "id": "595c7254-2b66-4488-8563-919b1cb0acad",
   "metadata": {},
   "outputs": [
    {
     "data": {
      "image/png": "[encoded data removed]",
      "text/plain": [
       "<Figure size 800x600 with 1 Axes>"
      ]
     },
     "metadata": {},
     "output_type": "display_data"
    }
   ],
   "source": [
    "plt.figure(figsize=(8,6))\n",
    "for k in k_choices:\n",
    "  accuracies = k_to_accuracies[k]\n",
    "  plt.scatter([k] * len(accuracies), accuracies,marker='.')\n",
    "\n",
    "# plot the trend line with error bars that correspond to standard deviation\n",
    "accuracies_mean = np.array([np.mean(v) for k,v in sorted(k_to_accuracies.items())])\n",
    "accuracies_std = np.array([np.std(v) for k,v in sorted(k_to_accuracies.items())])\n",
    "\n",
    "plt.errorbar(k_choices, accuracies_mean, yerr=accuracies_std,color='blue',lw=.8,capthick=2.0)\n",
    "plt.title('Cross-validation on k')\n",
    "plt.xlabel('k')\n",
    "plt.ylabel('Cross-validation accuracy')\n",
    "\n",
    "plt.show()\n"
   ]
  },
  {
   "cell_type": "code",
   "execution_count": 149,
   "id": "e8630372-0c9f-4b12-a642-57ca1da9d30d",
   "metadata": {},
   "outputs": [],
   "source": [
    "def hstack(a,b):\n",
    "    res = []\n",
    "    if isinstance(a[0], np.ndarray):\n",
    "        a = np.squeeze(a, axis=-1)\n",
    "    if isinstance(b[0], np.ndarray):  \n",
    "        b = np.squeeze(b, axis=-1)\n",
    "    for i in range(len(a)):\n",
    "        res.append([a[i],b[i]])\n",
    "    return np.array(res)\n"
   ]
  },
  {
   "cell_type": "code",
   "execution_count": 151,
   "id": "b63c71de-a3e2-4dbb-b40a-7618b6209ceb",
   "metadata": {},
   "outputs": [
    {
     "data": {
      "text/plain": [
       "array([[1, 4],\n",
       "       [2, 5],\n",
       "       [3, 6]])"
      ]
     },
     "execution_count": 151,
     "metadata": {},
     "output_type": "execute_result"
    }
   ],
   "source": [
    "#hstack([1,2,3],[4,5,6])\n",
    "hstack(a,b)"
   ]
  }
 ],
 "metadata": {
  "kernelspec": {
   "display_name": "Python 3 (ipykernel)",
   "language": "python",
   "name": "python3"
  },
  "language_info": {
   "codemirror_mode": {
    "name": "ipython",
    "version": 3
   },
   "file_extension": ".py",
   "mimetype": "text/x-python",
   "name": "python",
   "nbconvert_exporter": "python",
   "pygments_lexer": "ipython3",
   "version": "3.11.4"
  }
 },
 "nbformat": 4,
 "nbformat_minor": 5
}
